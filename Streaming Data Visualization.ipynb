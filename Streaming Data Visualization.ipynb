{
 "cells": [
  {
   "cell_type": "code",
   "execution_count": 3,
   "metadata": {},
   "outputs": [],
   "source": [
    "import zmq\n",
    "import datetime\n",
    "import plotly.graph_objects as go"
   ]
  },
  {
   "cell_type": "markdown",
   "metadata": {},
   "source": [
    "```\n",
    "conda install plotly ipywidgets\n",
    "jupyter labextension install jupyterlab-plotly\n",
    "jupyter labextension install @jupyter-widgets/jupyterlab-manager\n",
    "jupyter labextension install plotlywidget\n",
    "```"
   ]
  },
  {
   "cell_type": "code",
   "execution_count": 4,
   "metadata": {},
   "outputs": [],
   "source": [
    "symbol = 'SYMBOL'"
   ]
  },
  {
   "cell_type": "code",
   "execution_count": 5,
   "metadata": {},
   "outputs": [
    {
     "data": {
      "application/vnd.jupyter.widget-view+json": {
       "model_id": "6d6920e3fb704d959f6dd80d38713a54",
       "version_major": 2,
       "version_minor": 0
      },
      "text/plain": [
       "FigureWidget({\n",
       "    'data': [{'type': 'scatter', 'uid': 'f778d2a2-52ef-402b-9dd0-63ab1398863b'}], 'layout': {'template': '...'}\n",
       "})"
      ]
     },
     "execution_count": 5,
     "metadata": {},
     "output_type": "execute_result"
    }
   ],
   "source": [
    "fig = go.FigureWidget()\n",
    "fig.add_scatter()\n",
    "fig"
   ]
  },
  {
   "cell_type": "code",
   "execution_count": 6,
   "metadata": {},
   "outputs": [],
   "source": [
    "context = zmq.Context()\n",
    "socket = context.socket(zmq.SUB)\n",
    "socket.connect('tcp://0.0.0.0:5555')\n",
    "\n",
    "socket.setsockopt_string(zmq.SUBSCRIBE, 'SYMBOL')"
   ]
  },
  {
   "cell_type": "code",
   "execution_count": 10,
   "metadata": {},
   "outputs": [],
   "source": [
    "times = []\n",
    "prices = []\n",
    "\n",
    "for _ in range(50):\n",
    "    msg = socket.recv_string()\n",
    "    t = datetime.datetime.now()\n",
    "    times.append(t)\n",
    "    _, price = msg.split()\n",
    "    prices.append(float(price))\n",
    "    fig.data[0].x = times\n",
    "    fig.data[0].y = prices\n",
    "    "
   ]
  },
  {
   "cell_type": "code",
   "execution_count": 12,
   "metadata": {},
   "outputs": [
    {
     "data": {
      "application/vnd.jupyter.widget-view+json": {
       "model_id": "06b15109a08447c497d7d232eafecab9",
       "version_major": 2,
       "version_minor": 0
      },
      "text/plain": [
       "FigureWidget({\n",
       "    'data': [{'name': 'SYMBOL', 'type': 'scatter', 'uid': '914754f2-582e-4b22-b225-12b95e6fea49'},\n",
       "             {'line': {'dash': 'dot', 'width': 1},\n",
       "              'mode': 'lines+markers',\n",
       "              'name': 'SMA1',\n",
       "              'type': 'scatter',\n",
       "              'uid': 'f330a26f-dc06-4ec8-891f-37d2c81ab0eb'},\n",
       "             {'line': {'dash': 'dash', 'width': 1},\n",
       "              'mode': 'lines+markers',\n",
       "              'name': 'SMA2',\n",
       "              'type': 'scatter',\n",
       "              'uid': '28957684-8d75-42e9-9428-34a2b1f3e069'}],\n",
       "    'layout': {'template': '...'}\n",
       "})"
      ]
     },
     "execution_count": 12,
     "metadata": {},
     "output_type": "execute_result"
    }
   ],
   "source": [
    "fig = go.FigureWidget()\n",
    "fig.add_scatter(name='SYMBOL')\n",
    "fig.add_scatter(name='SMA1', line=dict(width=1, dash='dot'),mode='lines+markers')\n",
    "fig.add_scatter(name='SMA2', line=dict(width=1, dash='dash'),mode='lines+markers')\n",
    "fig"
   ]
  },
  {
   "cell_type": "code",
   "execution_count": 14,
   "metadata": {},
   "outputs": [],
   "source": [
    "import pandas as pd\n",
    "df = pd.DataFrame()\n",
    "\n",
    "for _ in range(75):\n",
    "    msg = socket.recv_string()\n",
    "    t = datetime.datetime.now()\n",
    "    sym, price = msg.split()\n",
    "    new_row = pd.DataFrame({sym: [price]}, index=[t])\n",
    "    \n",
    "    df = pd.concat([df, new_row])\n",
    "    df['SMA1'] = df[sym].rolling(5).mean()\n",
    "    df['SMA2'] = df[sym].rolling(10).mean()\n",
    "    fig.data[0].x = df.index\n",
    "    fig.data[1].x = df.index\n",
    "    fig.data[2].x = df.index\n",
    "    fig.data[0].y = df[sym]\n",
    "    fig.data[1].y = df['SMA1']\n",
    "    fig.data[2].y = df['SMA2']\n",
    "    "
   ]
  },
  {
   "cell_type": "code",
   "execution_count": null,
   "metadata": {},
   "outputs": [],
   "source": []
  }
 ],
 "metadata": {
  "kernelspec": {
   "display_name": "base",
   "language": "python",
   "name": "python3"
  },
  "language_info": {
   "codemirror_mode": {
    "name": "ipython",
    "version": 3
   },
   "file_extension": ".py",
   "mimetype": "text/x-python",
   "name": "python",
   "nbconvert_exporter": "python",
   "pygments_lexer": "ipython3",
   "version": "3.12.7"
  }
 },
 "nbformat": 4,
 "nbformat_minor": 2
}

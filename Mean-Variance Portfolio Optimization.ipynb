{
 "cells": [
  {
   "cell_type": "code",
   "execution_count": 2,
   "metadata": {},
   "outputs": [],
   "source": [
    "import numpy as np\n",
    "import pandas as pd\n",
    "import scipy.optimize as opt\n",
    "import yfinance as yf"
   ]
  },
  {
   "cell_type": "code",
   "execution_count": 24,
   "metadata": {},
   "outputs": [],
   "source": [
    "# Define asset list\n",
    "tickers = ['AAPL', 'MSFT', 'GS', 'AMZN', 'IBM']"
   ]
  },
  {
   "cell_type": "code",
   "execution_count": 25,
   "metadata": {},
   "outputs": [
    {
     "name": "stderr",
     "output_type": "stream",
     "text": [
      "[*********************100%***********************]  5 of 5 completed\n"
     ]
    }
   ],
   "source": [
    "data = yf.download(tickers, start='2010-01-01', end='2024-01-01')['Close']"
   ]
  },
  {
   "cell_type": "code",
   "execution_count": 26,
   "metadata": {},
   "outputs": [
    {
     "data": {
      "text/html": [
       "<div>\n",
       "<style scoped>\n",
       "    .dataframe tbody tr th:only-of-type {\n",
       "        vertical-align: middle;\n",
       "    }\n",
       "\n",
       "    .dataframe tbody tr th {\n",
       "        vertical-align: top;\n",
       "    }\n",
       "\n",
       "    .dataframe thead th {\n",
       "        text-align: right;\n",
       "    }\n",
       "</style>\n",
       "<table border=\"1\" class=\"dataframe\">\n",
       "  <thead>\n",
       "    <tr style=\"text-align: right;\">\n",
       "      <th>Ticker</th>\n",
       "      <th>AAPL</th>\n",
       "      <th>AMZN</th>\n",
       "      <th>GS</th>\n",
       "      <th>IBM</th>\n",
       "      <th>MSFT</th>\n",
       "    </tr>\n",
       "    <tr>\n",
       "      <th>Date</th>\n",
       "      <th></th>\n",
       "      <th></th>\n",
       "      <th></th>\n",
       "      <th></th>\n",
       "      <th></th>\n",
       "    </tr>\n",
       "  </thead>\n",
       "  <tbody>\n",
       "    <tr>\n",
       "      <th>2010-01-04</th>\n",
       "      <td>6.440331</td>\n",
       "      <td>6.6950</td>\n",
       "      <td>132.649918</td>\n",
       "      <td>74.269775</td>\n",
       "      <td>23.254047</td>\n",
       "    </tr>\n",
       "    <tr>\n",
       "      <th>2010-01-05</th>\n",
       "      <td>6.451466</td>\n",
       "      <td>6.7345</td>\n",
       "      <td>134.995087</td>\n",
       "      <td>73.372604</td>\n",
       "      <td>23.261557</td>\n",
       "    </tr>\n",
       "    <tr>\n",
       "      <th>2010-01-06</th>\n",
       "      <td>6.348847</td>\n",
       "      <td>6.6125</td>\n",
       "      <td>133.554276</td>\n",
       "      <td>72.895966</td>\n",
       "      <td>23.118809</td>\n",
       "    </tr>\n",
       "    <tr>\n",
       "      <th>2010-01-07</th>\n",
       "      <td>6.337109</td>\n",
       "      <td>6.5000</td>\n",
       "      <td>136.167725</td>\n",
       "      <td>72.643631</td>\n",
       "      <td>22.878380</td>\n",
       "    </tr>\n",
       "    <tr>\n",
       "      <th>2010-01-08</th>\n",
       "      <td>6.379241</td>\n",
       "      <td>6.6760</td>\n",
       "      <td>133.592636</td>\n",
       "      <td>73.372604</td>\n",
       "      <td>23.036161</td>\n",
       "    </tr>\n",
       "  </tbody>\n",
       "</table>\n",
       "</div>"
      ],
      "text/plain": [
       "Ticker          AAPL    AMZN          GS        IBM       MSFT\n",
       "Date                                                          \n",
       "2010-01-04  6.440331  6.6950  132.649918  74.269775  23.254047\n",
       "2010-01-05  6.451466  6.7345  134.995087  73.372604  23.261557\n",
       "2010-01-06  6.348847  6.6125  133.554276  72.895966  23.118809\n",
       "2010-01-07  6.337109  6.5000  136.167725  72.643631  22.878380\n",
       "2010-01-08  6.379241  6.6760  133.592636  73.372604  23.036161"
      ]
     },
     "execution_count": 26,
     "metadata": {},
     "output_type": "execute_result"
    }
   ],
   "source": [
    "data.head()"
   ]
  },
  {
   "cell_type": "code",
   "execution_count": 27,
   "metadata": {},
   "outputs": [],
   "source": [
    "# Compute daily log return\n",
    "returns = np.log(data / data.shift(1)).dropna()"
   ]
  },
  {
   "cell_type": "code",
   "execution_count": 28,
   "metadata": {},
   "outputs": [],
   "source": [
    "# Compute mean return\n",
    "mu = returns.mean() * 252 # annualized mean return"
   ]
  },
  {
   "cell_type": "code",
   "execution_count": 29,
   "metadata": {},
   "outputs": [],
   "source": [
    "# Compute covariance matrix\n",
    "cov_matrix = returns.cov() * 252"
   ]
  },
  {
   "cell_type": "code",
   "execution_count": 30,
   "metadata": {},
   "outputs": [],
   "source": [
    "# Define risk-free interest rate (e.g. US Treasury yield)\n",
    "risk_free_rate = 0.03 "
   ]
  },
  {
   "cell_type": "code",
   "execution_count": 31,
   "metadata": {},
   "outputs": [],
   "source": [
    "def sharpe_ratio(weights, mu, cov_matrix, risk_free_rate):\n",
    "    portfolio_return = np.dot(weights, mu)\n",
    "    portfolio_volatility = np.sqrt(np.dot(weights.T, np.dot(cov_matrix, weights)))\n",
    "    return -(portfolio_return - risk_free_rate) / portfolio_volatility # negative for minimization"
   ]
  },
  {
   "cell_type": "code",
   "execution_count": 32,
   "metadata": {},
   "outputs": [],
   "source": [
    "# Set optimization constraints\n",
    "num_assets = len(tickers)\n",
    "initial_weights = np.ones(num_assets) / num_assets\n",
    "bounds = [(0, 1) for _ in range(num_assets)]\n",
    "constraints = [{'type': 'eq', 'fun': lambda w: np.sum(w) - 1}]"
   ]
  },
  {
   "cell_type": "code",
   "execution_count": 33,
   "metadata": {},
   "outputs": [],
   "source": [
    "opt_result = opt.minimize(sharpe_ratio, initial_weights, args=(mu, cov_matrix, risk_free_rate), method='SLSQP', bounds=bounds, constraints=constraints)"
   ]
  },
  {
   "cell_type": "code",
   "execution_count": 34,
   "metadata": {},
   "outputs": [],
   "source": [
    "optimal_weights = opt_result.x"
   ]
  },
  {
   "cell_type": "code",
   "execution_count": 35,
   "metadata": {},
   "outputs": [
    {
     "name": "stdout",
     "output_type": "stream",
     "text": [
      "Optimal Portfolio Weights:\n",
      "AAPL: 0.5529\n",
      "MSFT: 0.1891\n",
      "GS: 0.0000\n",
      "AMZN: 0.0000\n",
      "IBM: 0.2579\n"
     ]
    }
   ],
   "source": [
    "print('Optimal Portfolio Weights:')\n",
    "for asset, weight in zip(tickers, optimal_weights):\n",
    "    print(f'{asset}: {weight:.4f}')"
   ]
  },
  {
   "cell_type": "code",
   "execution_count": 36,
   "metadata": {},
   "outputs": [
    {
     "name": "stdout",
     "output_type": "stream",
     "text": [
      "Optimal Sharpe Ratio: 0.8119\n"
     ]
    }
   ],
   "source": [
    "final_sharpe = -sharpe_ratio(optimal_weights, mu, cov_matrix, risk_free_rate)\n",
    "print(f'Optimal Sharpe Ratio: {final_sharpe:.4f}')"
   ]
  },
  {
   "cell_type": "code",
   "execution_count": null,
   "metadata": {},
   "outputs": [],
   "source": []
  }
 ],
 "metadata": {
  "kernelspec": {
   "display_name": "base",
   "language": "python",
   "name": "python3"
  },
  "language_info": {
   "codemirror_mode": {
    "name": "ipython",
    "version": 3
   },
   "file_extension": ".py",
   "mimetype": "text/x-python",
   "name": "python",
   "nbconvert_exporter": "python",
   "pygments_lexer": "ipython3",
   "version": "3.12.7"
  }
 },
 "nbformat": 4,
 "nbformat_minor": 2
}
